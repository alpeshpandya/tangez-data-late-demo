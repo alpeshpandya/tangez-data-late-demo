{
 "cells": [
  {
   "cell_type": "code",
   "execution_count": 1,
   "metadata": {
    "collapsed": true
   },
   "outputs": [],
   "source": [
    "import time\n",
    "import datetime\n",
    "from pyspark.sql.functions import lit,unix_timestamp,col,concat"
   ]
  },
  {
   "cell_type": "code",
   "execution_count": 2,
   "metadata": {
    "collapsed": true
   },
   "outputs": [],
   "source": [
    "interval_1_df = spark.read.option(\"header\", True).option(\"inferSchema\", True).csv('file:///home/guest/data/meter_data_1.csv')"
   ]
  },
  {
   "cell_type": "code",
   "execution_count": 3,
   "metadata": {
    "scrolled": true
   },
   "outputs": [
    {
     "name": "stdout",
     "output_type": "stream",
     "text": [
      "root\n",
      " |-- sync_bit: integer (nullable = true)\n",
      " |-- preamble: string (nullable = true)\n",
      " |-- ert_id_ms_bits: integer (nullable = true)\n",
      " |-- reserved: string (nullable = true)\n",
      " |-- physical_tamper: string (nullable = true)\n",
      " |-- ert_type: string (nullable = true)\n",
      " |-- encoder_tamper: string (nullable = true)\n",
      " |-- consumption_data: integer (nullable = true)\n",
      " |-- ert_id_ls_bits: decimal(24,0) (nullable = true)\n",
      " |-- checksum: long (nullable = true)\n",
      " |-- received_ts: timestamp (nullable = true)\n",
      " |-- ert_id: string (nullable = true)\n",
      " |-- meter_data_id: integer (nullable = true)\n",
      "\n"
     ]
    }
   ],
   "source": [
    "timestamp = datetime.datetime.fromtimestamp(time.time()).strftime('%Y-%m-%d %H:%M:%S')\n",
    "ts_df = interval_1_df.withColumn('received_ts',unix_timestamp(lit(timestamp),'yyyy-MM-dd HH:mm:ss').cast(\"timestamp\"))\n",
    "ert_combined_id_df = ts_df.withColumn('ert_id',concat(col('ert_id_ms_bits'),col('ert_id_ls_bits')))\n",
    "sequence_id_df = ert_combined_id_df.withColumn('meter_data_id',col('_c0')).drop('_c0')\n",
    "sequence_id_df.printSchema()"
   ]
  },
  {
   "cell_type": "code",
   "execution_count": 4,
   "metadata": {
    "collapsed": true
   },
   "outputs": [],
   "source": [
    "sequence_id_df.write.format(\"org.apache.spark.sql.cassandra\").mode('append')\\\n",
    ".options(table=\"meter_data\", keyspace=\"tangez_demo\").save()"
   ]
  },
  {
   "cell_type": "code",
   "execution_count": 5,
   "metadata": {},
   "outputs": [
    {
     "name": "stdout",
     "output_type": "stream",
     "text": [
      "+-------------+-----------------+----------------+--------------+--------------------+--------------------+--------------+--------+---------------+--------+--------------------+--------+--------+\n",
      "|meter_data_id|         checksum|consumption_data|encoder_tamper|              ert_id|      ert_id_ls_bits|ert_id_ms_bits|ert_type|physical_tamper|preamble|         received_ts|reserved|sync_bit|\n",
      "+-------------+-----------------+----------------+--------------+--------------------+--------------------+--------------+--------+---------------+--------+--------------------+--------+--------+\n",
      "|          255|47498238489494848|            1197|          null|64100000000000000...|10000000000000000...|            64|electric|           null| 0xF2A60|2018-11-29 19:52:...|    null|       1|\n",
      "|          326|47498238489494848|             364|          null|15100000000000000...|10000000000000000...|            15|electric|           null| 0xF2A60|2018-11-29 19:52:...|    null|       1|\n",
      "|          374|47498238489494848|            1991|          null|22100000000000000...|10000000000000000...|            22|electric|           null| 0xF2A60|2018-11-29 19:52:...|    null|       1|\n",
      "|          151|47498238489494848|             899|          null|24100000000000000...|10000000000000000...|            24|electric|           null| 0xF2A60|2018-11-29 19:52:...|    null|       1|\n",
      "|          837|47498238489494848|            1098|          null|73100000000000000...|10000000000000000...|            73|electric|           null| 0xF2A60|2018-11-29 19:52:...|    null|       1|\n",
      "|          840|47498238489494848|            1244|          null|52100000000000000...|10000000000000000...|            52|electric|           null| 0xF2A60|2018-11-29 19:52:...|    null|       1|\n",
      "|          560|47498238489494848|             741|          null|19100000000000000...|10000000000000000...|            19|electric|           null| 0xF2A60|2018-11-29 19:52:...|    null|       1|\n",
      "|          925|47498238489494848|            1540|          null|95100000000000000...|10000000000000000...|            95|electric|           null| 0xF2A60|2018-11-29 19:52:...|    null|       1|\n",
      "|          554|47498238489494848|            1049|          null|42100000000000000...|10000000000000000...|            42|electric|           null| 0xF2A60|2018-11-29 19:52:...|    null|       1|\n",
      "|            6|47498238489494848|            3975|          null|94100000000000000...|10000000000000000...|            94|electric|           null| 0xF2A60|2018-11-29 19:52:...|    null|       1|\n",
      "|          880|47498238489494848|             856|          null|74100000000000000...|10000000000000000...|            74|electric|           null| 0xF2A60|2018-11-29 19:52:...|    null|       1|\n",
      "|          828|47498238489494848|            2597|          null|81100000000000000...|10000000000000000...|            81|electric|           null| 0xF2A60|2018-11-29 19:52:...|    null|       1|\n",
      "|          483|47498238489494848|            1379|          null|56100000000000000...|10000000000000000...|            56|electric|           null| 0xF2A60|2018-11-29 19:52:...|    null|       1|\n",
      "|          191|47498238489494848|             225|          null|51100000000000000...|10000000000000000...|            51|electric|           null| 0xF2A60|2018-11-29 19:52:...|    null|       1|\n",
      "|          411|47498238489494848|            2296|          null|59100000000000000...|10000000000000000...|            59|electric|           null| 0xF2A60|2018-11-29 19:52:...|    null|       1|\n",
      "|          682|47498238489494848|            3424|          null|75100000000000000...|10000000000000000...|            75|electric|           null| 0xF2A60|2018-11-29 19:52:...|    null|       1|\n",
      "|          697|47498238489494848|            1916|          null|55100000000000000...|10000000000000000...|            55|electric|           null| 0xF2A60|2018-11-29 19:52:...|    null|       1|\n",
      "|          794|47498238489494848|            2769|          null|94100000000000000...|10000000000000000...|            94|electric|           null| 0xF2A60|2018-11-29 19:52:...|    null|       1|\n",
      "|          752|47498238489494848|            3853|          null|59100000000000000...|10000000000000000...|            59|electric|           null| 0xF2A60|2018-11-29 19:52:...|    null|       1|\n",
      "|          909|47498238489494848|            2356|          null|76100000000000000...|10000000000000000...|            76|electric|           null| 0xF2A60|2018-11-29 19:52:...|    null|       1|\n",
      "+-------------+-----------------+----------------+--------------+--------------------+--------------------+--------------+--------+---------------+--------+--------------------+--------+--------+\n",
      "only showing top 20 rows\n",
      "\n"
     ]
    }
   ],
   "source": [
    "sqlContext=SQLContext(spark.sparkContext)\n",
    "stage_df = sqlContext.read.format(\"org.apache.spark.sql.cassandra\").options(table=\"meter_data\", keyspace=\"tangez_demo\").load()\n",
    "stage_df.show()"
   ]
  },
  {
   "cell_type": "code",
   "execution_count": 7,
   "metadata": {},
   "outputs": [
    {
     "data": {
      "text/plain": [
       "<pyspark.sql.session.SparkSession at 0x7f1fc3df8ad0>"
      ]
     },
     "execution_count": 7,
     "metadata": {},
     "output_type": "execute_result"
    }
   ],
   "source": [
    "spark"
   ]
  },
  {
   "cell_type": "code",
   "execution_count": null,
   "metadata": {
    "collapsed": true
   },
   "outputs": [],
   "source": []
  }
 ],
 "metadata": {
  "kernelspec": {
   "display_name": "Python 2",
   "language": "python",
   "name": "python2"
  },
  "language_info": {
   "codemirror_mode": {
    "name": "ipython",
    "version": 2
   },
   "file_extension": ".py",
   "mimetype": "text/x-python",
   "name": "python",
   "nbconvert_exporter": "python",
   "pygments_lexer": "ipython2",
   "version": "2.7.10"
  }
 },
 "nbformat": 4,
 "nbformat_minor": 2
}
