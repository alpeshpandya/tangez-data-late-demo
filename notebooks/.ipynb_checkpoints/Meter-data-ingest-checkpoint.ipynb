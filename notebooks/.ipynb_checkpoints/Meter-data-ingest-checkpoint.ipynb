{
 "cells": [
  {
   "cell_type": "code",
   "execution_count": 1,
   "metadata": {
    "collapsed": true
   },
   "outputs": [],
   "source": [
    "import time\n",
    "import datetime\n",
    "from pyspark.sql.functions import lit,unix_timestamp,col,concat"
   ]
  },
  {
   "cell_type": "code",
   "execution_count": 2,
   "metadata": {
    "collapsed": true
   },
   "outputs": [],
   "source": [
    "interval_1_df = spark.read.option(\"header\", True).option(\"inferSchema\", True).csv('file:///home/guest/data/meter_data_1.csv')"
   ]
  },
  {
   "cell_type": "code",
   "execution_count": 5,
   "metadata": {},
   "outputs": [
    {
     "name": "stdout",
     "output_type": "stream",
     "text": [
      "root\n",
      " |-- sync_bit: integer (nullable = true)\n",
      " |-- preamble: string (nullable = true)\n",
      " |-- ert_id_ms_bits: integer (nullable = true)\n",
      " |-- reserved: string (nullable = true)\n",
      " |-- physical_tamper: string (nullable = true)\n",
      " |-- ert_type: string (nullable = true)\n",
      " |-- encoder_tamper: string (nullable = true)\n",
      " |-- consumption_data: integer (nullable = true)\n",
      " |-- ert_id_ls_bits: decimal(24,0) (nullable = true)\n",
      " |-- checksum: long (nullable = true)\n",
      " |-- received_ts: timestamp (nullable = true)\n",
      " |-- ert_id: string (nullable = true)\n",
      " |-- meter_data_id: integer (nullable = true)\n",
      "\n"
     ]
    }
   ],
   "source": [
    "timestamp = datetime.datetime.fromtimestamp(time.time()).strftime('%Y-%m-%d %H:%M:%S')\n",
    "ts_df = interval_1_df.withColumn('received_ts',unix_timestamp(lit(timestamp),'yyyy-MM-dd HH:mm:ss').cast(\"timestamp\"))\n",
    "ert_combined_id_df = ts_df.withColumn('ert_id',concat(col('ert_id_ms_bits'),col('ert_id_ls_bits')))\n",
    "sequence_id_df = ert_combined_id_df.withColumn('meter_data_id',col('_c0')).drop('_c0')\n",
    "sequence_id_df.printSchema()"
   ]
  },
  {
   "cell_type": "code",
   "execution_count": 6,
   "metadata": {},
   "outputs": [],
   "source": [
    "sequence_id_df.write.format(\"org.apache.spark.sql.cassandra\").mode('append')\\\n",
    ".options(table=\"meter_data\", keyspace=\"tangez_demo\").save()"
   ]
  },
  {
   "cell_type": "code",
   "execution_count": 7,
   "metadata": {},
   "outputs": [
    {
     "name": "stdout",
     "output_type": "stream",
     "text": [
      "+-------------+-----------------+----------------+--------------+--------------------+--------------------+--------------+--------+---------------+--------+--------------------+--------+--------+\n",
      "|meter_data_id|         checksum|consumption_data|encoder_tamper|              ert_id|      ert_id_ls_bits|ert_id_ms_bits|ert_type|physical_tamper|preamble|         received_ts|reserved|sync_bit|\n",
      "+-------------+-----------------+----------------+--------------+--------------------+--------------------+--------------+--------+---------------+--------+--------------------+--------+--------+\n",
      "|          552|47498238489494848|            2209|          null|12100000000000000...|10000000000000000...|            12|electric|           null| 0xF2A60|2018-11-29 19:18:...|    null|       1|\n",
      "|          732|47498238489494848|             401|          null|15100000000000000...|10000000000000000...|            15|electric|           null| 0xF2A60|2018-11-29 19:18:...|    null|       1|\n",
      "|          735|47498238489494848|            1746|          null|59100000000000000...|10000000000000000...|            59|electric|           null| 0xF2A60|2018-11-29 19:18:...|    null|       1|\n",
      "|          332|47498238489494848|            1690|          null|12100000000000000...|10000000000000000...|            12|electric|           null| 0xF2A60|2018-11-29 19:18:...|    null|       1|\n",
      "|          360|47498238489494848|            2480|          null|10010000000000000...|10000000000000000...|           100|electric|           null| 0xF2A60|2018-11-29 19:18:...|    null|       1|\n",
      "|          722|47498238489494848|            2462|          null|96100000000000000...|10000000000000000...|            96|electric|           null| 0xF2A60|2018-11-29 19:18:...|    null|       1|\n",
      "|           21|47498238489494848|            1821|          null|12100000000000000...|10000000000000000...|            12|electric|           null| 0xF2A60|2018-11-29 19:18:...|    null|       1|\n",
      "|          309|47498238489494848|            2883|          null|75100000000000000...|10000000000000000...|            75|electric|           null| 0xF2A60|2018-11-29 19:18:...|    null|       1|\n",
      "|          471|47498238489494848|            3398|          null|75100000000000000...|10000000000000000...|            75|electric|           null| 0xF2A60|2018-11-29 19:18:...|    null|       1|\n",
      "|          620|47498238489494848|            3329|          null|35100000000000000...|10000000000000000...|            35|electric|           null| 0xF2A60|2018-11-29 19:18:...|    null|       1|\n",
      "|          983|47498238489494848|             563|          null|35100000000000000...|10000000000000000...|            35|electric|           null| 0xF2A60|2018-11-29 19:18:...|    null|       1|\n",
      "|          354|47498238489494848|            2243|          null|76100000000000000...|10000000000000000...|            76|electric|           null| 0xF2A60|2018-11-29 19:18:...|    null|       1|\n",
      "|          557|47498238489494848|            1027|          null|94100000000000000...|10000000000000000...|            94|electric|           null| 0xF2A60|2018-11-29 19:18:...|    null|       1|\n",
      "|          805|47498238489494848|            3808|          null|84100000000000000...|10000000000000000...|            84|electric|           null| 0xF2A60|2018-11-29 19:18:...|    null|       1|\n",
      "|          875|47498238489494848|            2445|          null|28100000000000000...|10000000000000000...|            28|electric|           null| 0xF2A60|2018-11-29 19:18:...|    null|       1|\n",
      "|          205|47498238489494848|            2093|          null|34100000000000000...|10000000000000000...|            34|electric|           null| 0xF2A60|2018-11-29 19:18:...|    null|       1|\n",
      "|          938|47498238489494848|            2930|          null|35100000000000000...|10000000000000000...|            35|electric|           null| 0xF2A60|2018-11-29 19:18:...|    null|       1|\n",
      "|          550|47498238489494848|            1741|          null|20100000000000000...|10000000000000000...|            20|electric|           null| 0xF2A60|2018-11-29 19:18:...|    null|       1|\n",
      "|          146|47498238489494848|             620|          null|10010000000000000...|10000000000000000...|           100|electric|           null| 0xF2A60|2018-11-29 19:18:...|    null|       1|\n",
      "|          322|47498238489494848|            3961|          null|73100000000000000...|10000000000000000...|            73|electric|           null| 0xF2A60|2018-11-29 19:18:...|    null|       1|\n",
      "+-------------+-----------------+----------------+--------------+--------------------+--------------------+--------------+--------+---------------+--------+--------------------+--------+--------+\n",
      "only showing top 20 rows\n",
      "\n"
     ]
    }
   ],
   "source": [
    "sqlContext=SQLContext(spark.sparkContext)\n",
    "stage_df = sqlContext.read.format(\"org.apache.spark.sql.cassandra\").options(table=\"meter_data\", keyspace=\"tangez_demo\").load()\n",
    "stage_df.show()"
   ]
  },
  {
   "cell_type": "code",
   "execution_count": null,
   "metadata": {
    "collapsed": true
   },
   "outputs": [],
   "source": []
  }
 ],
 "metadata": {
  "kernelspec": {
   "display_name": "Python 2",
   "language": "python",
   "name": "python2"
  },
  "language_info": {
   "codemirror_mode": {
    "name": "ipython",
    "version": 2
   },
   "file_extension": ".py",
   "mimetype": "text/x-python",
   "name": "python",
   "nbconvert_exporter": "python",
   "pygments_lexer": "ipython2",
   "version": "2.7.10"
  }
 },
 "nbformat": 4,
 "nbformat_minor": 2
}
