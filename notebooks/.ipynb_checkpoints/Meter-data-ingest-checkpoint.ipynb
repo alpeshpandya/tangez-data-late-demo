{
 "cells": [
  {
   "cell_type": "code",
   "execution_count": 1,
   "metadata": {
    "collapsed": true
   },
   "outputs": [],
   "source": [
    "import time\n",
    "import datetime\n",
    "from pyspark.sql.functions import lit,unix_timestamp,col,concat"
   ]
  },
  {
   "cell_type": "code",
   "execution_count": 2,
   "metadata": {},
   "outputs": [],
   "source": [
    "interval_1_df = spark.read.option(\"header\", True).option(\"inferSchema\", True).csv('file:///home/guest/data/meter_data_1.csv')"
   ]
  },
  {
   "cell_type": "code",
   "execution_count": 3,
   "metadata": {
    "scrolled": true
   },
   "outputs": [
    {
     "name": "stdout",
     "output_type": "stream",
     "text": [
      "root\n",
      " |-- sync_bit: integer (nullable = true)\n",
      " |-- preamble: string (nullable = true)\n",
      " |-- ert_id_ms_bits: integer (nullable = true)\n",
      " |-- reserved: string (nullable = true)\n",
      " |-- physical_tamper: string (nullable = true)\n",
      " |-- ert_type: string (nullable = true)\n",
      " |-- encoder_tamper: string (nullable = true)\n",
      " |-- consumption_data: integer (nullable = true)\n",
      " |-- ert_id_ls_bits: decimal(24,0) (nullable = true)\n",
      " |-- checksum: long (nullable = true)\n",
      " |-- received_ts: timestamp (nullable = true)\n",
      " |-- ert_id: string (nullable = true)\n",
      " |-- meter_data_id: integer (nullable = true)\n",
      "\n"
     ]
    }
   ],
   "source": [
    "timestamp = datetime.datetime.fromtimestamp(time.time()).strftime('%Y-%m-%d %H:%M:%S')\n",
    "ts_df = interval_1_df.withColumn('received_ts',unix_timestamp(lit(timestamp),'yyyy-MM-dd HH:mm:ss').cast(\"timestamp\"))\n",
    "ert_combined_id_df = ts_df.withColumn('ert_id',concat(col('ert_id_ms_bits'),col('ert_id_ls_bits')))\n",
    "sequence_id_df = ert_combined_id_df.withColumn('meter_data_id',col('_c0')).drop('_c0')\n",
    "sequence_id_df.printSchema()"
   ]
  },
  {
   "cell_type": "code",
   "execution_count": 4,
   "metadata": {
    "collapsed": true
   },
   "outputs": [],
   "source": [
    "sequence_id_df.write.format(\"org.apache.spark.sql.cassandra\").mode('append')\\\n",
    ".options(table=\"meter_data\", keyspace=\"tangez_demo\").save()"
   ]
  },
  {
   "cell_type": "code",
   "execution_count": 33,
   "metadata": {},
   "outputs": [
    {
     "name": "stdout",
     "output_type": "stream",
     "text": [
      "+-------------+-----------------+----------------+--------------+--------------------+--------------------+--------------+--------+---------------+--------+--------------------+--------+--------+\n",
      "|meter_data_id|         checksum|consumption_data|encoder_tamper|              ert_id|      ert_id_ls_bits|ert_id_ms_bits|ert_type|physical_tamper|preamble|         received_ts|reserved|sync_bit|\n",
      "+-------------+-----------------+----------------+--------------+--------------------+--------------------+--------------+--------+---------------+--------+--------------------+--------+--------+\n",
      "|          745|47498238489494848|            3392|          null|28100000000000000...|10000000000000000...|            28|electric|           null| 0xF2A60|2018-12-27 01:02:...|    null|       1|\n",
      "|          863|47498238489494848|            3055|          null|19100000000000000...|10000000000000000...|            19|electric|           null| 0xF2A60|2018-12-27 01:02:...|    null|       1|\n",
      "|          885|47498238489494848|             116|          null|91100000000000000...|10000000000000000...|            91|electric|           null| 0xF2A60|2018-12-27 01:02:...|    null|       1|\n",
      "|          662|47498238489494848|            3885|          null|72100000000000000...|10000000000000000...|            72|electric|           null| 0xF2A60|2018-12-27 01:02:...|    null|       1|\n",
      "|          617|47498238489494848|            2343|          null|32100000000000000...|10000000000000000...|            32|electric|           null| 0xF2A60|2018-12-27 01:02:...|    null|       1|\n",
      "|          702|47498238489494848|            3282|          null|43100000000000000...|10000000000000000...|            43|electric|           null| 0xF2A60|2018-12-27 01:02:...|    null|       1|\n",
      "|           58|47498238489494848|            1843|          null|25100000000000000...|10000000000000000...|            25|electric|           null| 0xF2A60|2018-12-27 01:02:...|    null|       1|\n",
      "|          803|47498238489494848|            1488|          null|24100000000000000...|10000000000000000...|            24|electric|           null| 0xF2A60|2018-12-27 01:02:...|    null|       1|\n",
      "|          594|47498238489494848|            2413|          null|99100000000000000...|10000000000000000...|            99|electric|           null| 0xF2A60|2018-12-27 01:02:...|    null|       1|\n",
      "|          603|47498238489494848|            1599|          null|10010000000000000...|10000000000000000...|           100|electric|           null| 0xF2A60|2018-12-27 01:02:...|    null|       1|\n",
      "|          866|47498238489494848|             980|          null|55100000000000000...|10000000000000000...|            55|electric|           null| 0xF2A60|2018-12-27 01:02:...|    null|       1|\n",
      "|          155|47498238489494848|            1189|          null|72100000000000000...|10000000000000000...|            72|electric|           null| 0xF2A60|2018-12-27 01:02:...|    null|       1|\n",
      "|           32|47498238489494848|            2297|          null|72100000000000000...|10000000000000000...|            72|electric|           null| 0xF2A60|2018-12-27 01:02:...|    null|       1|\n",
      "|          159|47498238489494848|             177|          null|79100000000000000...|10000000000000000...|            79|electric|           null| 0xF2A60|2018-12-27 01:02:...|    null|       1|\n",
      "|          103|47498238489494848|            2520|          null|64100000000000000...|10000000000000000...|            64|electric|           null| 0xF2A60|2018-12-27 01:02:...|    null|       1|\n",
      "|          818|47498238489494848|            2299|          null|51100000000000000...|10000000000000000...|            51|electric|           null| 0xF2A60|2018-12-27 01:02:...|    null|       1|\n",
      "|          508|47498238489494848|            1849|          null|42100000000000000...|10000000000000000...|            42|electric|           null| 0xF2A60|2018-12-27 01:02:...|    null|       1|\n",
      "|           40|47498238489494848|            2055|          null|46100000000000000...|10000000000000000...|            46|electric|           null| 0xF2A60|2018-12-27 01:02:...|    null|       1|\n",
      "|          949|47498238489494848|            1320|          null|51100000000000000...|10000000000000000...|            51|electric|           null| 0xF2A60|2018-12-27 01:02:...|    null|       1|\n",
      "|          521|47498238489494848|            2620|          null|41100000000000000...|10000000000000000...|            41|electric|           null| 0xF2A60|2018-12-27 01:02:...|    null|       1|\n",
      "+-------------+-----------------+----------------+--------------+--------------------+--------------------+--------------+--------+---------------+--------+--------------------+--------+--------+\n",
      "only showing top 20 rows\n",
      "\n"
     ]
    }
   ],
   "source": [
    "sqlContext=SQLContext(spark.sparkContext)\n",
    "stage_df = sqlContext.read.format(\"org.apache.spark.sql.cassandra\").options(table=\"meter_data\", keyspace=\"tangez_demo\").load()\n",
    "stage_df.show()"
   ]
  },
  {
   "cell_type": "code",
   "execution_count": 31,
   "metadata": {},
   "outputs": [],
   "source": [
    "customer_data = spark.read.option(\"header\", True).option(\"inferSchema\", True).csv('file:///home/guest/data/customer_data.csv')\n",
    "cleaned_customer_data = customer_data.drop('_c0').withColumnRenamed('st_address','address')\n",
    "\n",
    "cleaned_customer_data = cleaned_customer_data.where(\"ert_id is not null\")\n",
    "\n",
    "cleaned_customer_data.write.format(\"org.apache.spark.sql.cassandra\").mode('append')\\\n",
    ".options(table=\"customer_data\", keyspace=\"tangez_demo\").save()\n"
   ]
  },
  {
   "cell_type": "code",
   "execution_count": 32,
   "metadata": {},
   "outputs": [
    {
     "data": {
      "text/plain": [
       "2678"
      ]
     },
     "execution_count": 32,
     "metadata": {},
     "output_type": "execute_result"
    }
   ],
   "source": [
    "customer_data_from_db = stage_df = sqlContext.read.format(\"org.apache.spark.sql.cassandra\").options(table=\"customer_data\", keyspace=\"tangez_demo\").load()\n",
    "customer_data_from_db.count()"
   ]
  },
  {
   "cell_type": "code",
   "execution_count": 36,
   "metadata": {},
   "outputs": [
    {
     "name": "stdout",
     "output_type": "stream",
     "text": [
      "root\n",
      " |-- meter_data_id: string (nullable = true)\n",
      " |-- checksum: string (nullable = true)\n",
      " |-- consumption_data: integer (nullable = true)\n",
      " |-- encoder_tamper: string (nullable = true)\n",
      " |-- ert_id: string (nullable = true)\n",
      " |-- ert_id_ls_bits: string (nullable = true)\n",
      " |-- ert_id_ms_bits: string (nullable = true)\n",
      " |-- ert_type: string (nullable = true)\n",
      " |-- physical_tamper: string (nullable = true)\n",
      " |-- preamble: string (nullable = true)\n",
      " |-- received_ts: timestamp (nullable = true)\n",
      " |-- reserved: string (nullable = true)\n",
      " |-- sync_bit: integer (nullable = true)\n",
      " |-- ert_id: string (nullable = true)\n",
      " |-- address: string (nullable = true)\n",
      " |-- name: string (nullable = true)\n",
      "\n"
     ]
    },
    {
     "data": {
      "text/plain": [
       "202"
      ]
     },
     "execution_count": 36,
     "metadata": {},
     "output_type": "execute_result"
    }
   ],
   "source": [
    "joined_df = stage_df.join(customer_data_from_db,stage_df.ert_id==customer_data_from_db.ert_id)\n",
    "joined_df.printSchema()\n",
    "joined_df.count()"
   ]
  },
  {
   "cell_type": "code",
   "execution_count": null,
   "metadata": {
    "collapsed": true
   },
   "outputs": [],
   "source": []
  }
 ],
 "metadata": {
  "kernelspec": {
   "display_name": "Python 2",
   "language": "python",
   "name": "python2"
  },
  "language_info": {
   "codemirror_mode": {
    "name": "ipython",
    "version": 2
   },
   "file_extension": ".py",
   "mimetype": "text/x-python",
   "name": "python",
   "nbconvert_exporter": "python",
   "pygments_lexer": "ipython2",
   "version": "2.7.10"
  }
 },
 "nbformat": 4,
 "nbformat_minor": 2
}
